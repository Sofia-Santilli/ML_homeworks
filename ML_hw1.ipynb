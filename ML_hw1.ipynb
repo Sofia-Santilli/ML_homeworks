{
  "nbformat": 4,
  "nbformat_minor": 0,
  "metadata": {
    "colab": {
      "name": "ML_hw1.ipynb",
      "provenance": [],
      "collapsed_sections": []
    },
    "kernelspec": {
      "name": "python3",
      "display_name": "Python 3"
    }
  },
  "cells": [
    {
      "cell_type": "code",
      "metadata": {
        "colab": {
          "base_uri": "https://localhost:8080/"
        },
        "id": "ZQt3TCO2P7AJ",
        "outputId": "8da8fd51-8353-4a91-96dc-69de2ba20c27"
      },
      "source": [
        "import numpy as np\n",
        "import pandas as pd\n",
        "import random\n",
        "import json\n",
        "\n",
        "from sklearn.model_selection import train_test_split\n",
        "from sklearn.feature_extraction.text import *\n",
        "from sklearn.naive_bayes import *\n",
        "from sklearn.naive_bayes import GaussianNB\n",
        "from sklearn.linear_model import LogisticRegression\n",
        "from sklearn.metrics import confusion_matrix, classification_report\n",
        "import matplotlib.pyplot as plt\n",
        "from sklearn.utils.multiclass import unique_labels\n",
        "from sklearn import tree\n",
        "from sklearn import svm\n",
        "\n",
        "def plot_confusion_matrix(y_true, y_pred, classes,\n",
        "                          normalize=False,\n",
        "                          title=None, \n",
        "                          cmap=plt.cm.Blues):\n",
        "  if not title:\n",
        "    if normalize:\n",
        "      title = 'Normalized confusion matrix'\n",
        "    else:\n",
        "      title = 'Confusion matrix, no normalization'\n",
        "  cm = confusion_matrix(y_true, y_pred)\n",
        "  #classes = classes[unique_labels(y_true, y_pred)]\n",
        "  if normalize:\n",
        "    cm = cm.astype('float')/cm.sum(axis=1)[:, np.newaxis]\n",
        "    \n",
        "  else:\n",
        "    pass\n",
        "    \n",
        "  \n",
        "  fig, ax = plt.subplots()\n",
        "  im = ax.imshow(cm, interpolation='nearest', cmap=cmap)\n",
        "  ax.figure.colorbar(im, ax=ax)\n",
        "\n",
        "  ax.set(xticks=np.arange(cm.shape[1]), yticks=np.arange(cm.shape[0]), xticklabels=classes, yticklabels=classes, title=title, ylabel='true label', xlabel='predicted label')\n",
        "  \n",
        "\n",
        "  ax.set_ylim(len(classes)-0.5, -0.5)\n",
        "\n",
        "  \n",
        "\n",
        "  fmt= '.2f' if normalize else 'd'\n",
        "  thresh=cm.max() / 2.\n",
        "  for i in range(cm.shape[0]):\n",
        "    for j in range(cm.shape[1]):\n",
        "      ax.text(j, i, format(cm[i, j], fmt), ha=\"center\", va=\"center\", color=\"white\" if cm[i, j]>thresh else \"black\")\n",
        "  fig.tight_layout()\n",
        "  return ax\n",
        "\n",
        "\n",
        "print('Libraries imported.')"
      ],
      "execution_count": 40,
      "outputs": [
        {
          "output_type": "stream",
          "text": [
            "Libraries imported.\n"
          ],
          "name": "stdout"
        }
      ]
    },
    {
      "cell_type": "code",
      "metadata": {
        "colab": {
          "base_uri": "https://localhost:8080/"
        },
        "id": "sfrwbcAkU0Ww",
        "outputId": "2f8c7c6d-3854-49a7-8ce1-dc820fce45e3"
      },
      "source": [
        "from google.colab import drive\n",
        "drive.mount('/content/drive')"
      ],
      "execution_count": 41,
      "outputs": [
        {
          "output_type": "stream",
          "text": [
            "Drive already mounted at /content/drive; to attempt to forcibly remount, call drive.mount(\"/content/drive\", force_remount=True).\n"
          ],
          "name": "stdout"
        }
      ]
    },
    {
      "cell_type": "code",
      "metadata": {
        "colab": {
          "base_uri": "https://localhost:8080/"
        },
        "id": "FBDWydFNhBJX",
        "outputId": "43233420-2986-450a-b26e-110d81eb9240"
      },
      "source": [
        "%ls"
      ],
      "execution_count": 42,
      "outputs": [
        {
          "output_type": "stream",
          "text": [
            "\u001b[0m\u001b[01;34mdrive\u001b[0m/  \u001b[01;34msample_data\u001b[0m/\n"
          ],
          "name": "stdout"
        }
      ]
    },
    {
      "cell_type": "markdown",
      "metadata": {
        "id": "TMcGJcOXxZMl"
      },
      "source": [
        "###**Preprocessing**"
      ]
    },
    {
      "cell_type": "code",
      "metadata": {
        "id": "kXaLFuxChE71",
        "colab": {
          "base_uri": "https://localhost:8080/"
        },
        "outputId": "9907b883-1f60-4870-a492-3e955904619b"
      },
      "source": [
        "filename = '/content/drive/MyDrive/Colab Notebooks/ML_homework_1/noduplicatedataset.json' #dataset.json'\n",
        "db=pd.read_json(filename, lines=True)\n",
        "\n",
        "print('File loaded: %d samples.' %(len(db)))\n",
        "\n",
        "\n",
        "lista={}\n",
        "\n",
        "k=0\n",
        "for i in db.index:\n",
        "  \n",
        "  lista[k] = db.lista_asm[k].split(\"', '\")\n",
        "  n=0\n",
        "  \n",
        "  l=len(lista[k])\n",
        "  for j in range(l):\n",
        "    lista[k][n]= lista[k][n].split() #divido ogni istruzione rispetto agli spazi\n",
        "    n += 1\n",
        "  k += 1\n",
        "\n",
        "\n",
        "sample =''\n",
        "dataset=[]\n",
        "for i in range(len(lista)):  #ogni sample del dataset\n",
        "  for j in range(len(lista[i])):  #ogni istruzione in un singolo sample\n",
        "    if j==0:\n",
        "      sample = sample+\" \"+lista[i][j][0][2:]\n",
        "    else:\n",
        "      sample = sample+\" \"+lista[i][j][0]\n",
        "\n",
        "  dataset.append(sample)\n",
        "  sample=''  \n",
        "\n"
      ],
      "execution_count": 43,
      "outputs": [
        {
          "output_type": "stream",
          "text": [
            "File loaded: 6073 samples.\n"
          ],
          "name": "stdout"
        }
      ]
    },
    {
      "cell_type": "markdown",
      "metadata": {
        "id": "8QztoOpRrGo6"
      },
      "source": [
        "###**Vectorization**"
      ]
    },
    {
      "cell_type": "code",
      "metadata": {
        "colab": {
          "base_uri": "https://localhost:8080/"
        },
        "id": "NwSiaIdsN4Dq",
        "outputId": "875a849f-ed51-4121-897e-6e0098ebd3c4"
      },
      "source": [
        "\n",
        "vectorizer_type = \"count\" \n",
        "\n",
        "vectorizer = CountVectorizer(stop_words='english') # multinomial\n",
        "\n",
        "X_all = vectorizer.fit_transform(dataset)\n",
        "y_all = db.semantic\n",
        "\n",
        "nameClasses=[]\n",
        "for c in db.semantic:\n",
        "  if c not in nameClasses:\n",
        "    nameClasses.append(c)\n",
        "\n",
        "math = 0\n",
        "string = 0\n",
        "sort = 0\n",
        "encr = 0\n",
        "for c in db.semantic:\n",
        "  if c=='math':\n",
        "    math += 1;\n",
        "  elif c=='string':\n",
        "    string += 1;\n",
        "  elif c=='sort':\n",
        "    sort += 1;\n",
        "  else:\n",
        "    encr += 1;\n",
        "class_names = np.array([str(c) for c in nameClasses])\n",
        "class_names.sort()\n",
        "\n",
        "print(X_all.shape)\n",
        "print(y_all.shape)\n",
        "print(class_names)\n",
        "print('number samples for encryption: ', encr)\n",
        "print('number samples for math: ', math)\n",
        "print('number samples for string manipulation: ', string)\n",
        "print('number samples for sort: ', sort)"
      ],
      "execution_count": 44,
      "outputs": [
        {
          "output_type": "stream",
          "text": [
            "(6073, 177)\n",
            "(6073,)\n",
            "['encryption' 'math' 'sort' 'string']\n",
            "number samples for encryption:  1110\n",
            "number samples for math:  2412\n",
            "number samples for string manipulation:  2014\n",
            "number samples for sort:  537\n"
          ],
          "name": "stdout"
        }
      ]
    },
    {
      "cell_type": "code",
      "metadata": {
        "colab": {
          "base_uri": "https://localhost:8080/",
          "height": 267
        },
        "id": "kC34ye1VP7Cs",
        "outputId": "c8c5449c-8a38-4730-a1ff-488190d986f3"
      },
      "source": [
        "%matplotlib inline\n",
        "plt.hist(y_all, 30)\n",
        "plt.show()"
      ],
      "execution_count": 45,
      "outputs": [
        {
          "output_type": "display_data",
          "data": {
            "image/png": "[encoded data removed]",
            "text/plain": [
              "<Figure size 432x288 with 1 Axes>"
            ]
          },
          "metadata": {
            "tags": [],
            "needs_background": "light"
          }
        }
      ]
    },
    {
      "cell_type": "markdown",
      "metadata": {
        "id": "nfrdFlQqq-r-"
      },
      "source": [
        "###**Split in training set and test set**"
      ]
    },
    {
      "cell_type": "code",
      "metadata": {
        "colab": {
          "base_uri": "https://localhost:8080/"
        },
        "id": "vdjtxJsGkpER",
        "outputId": "8f0d1d51-35f5-41d7-9071-67175c0728f1"
      },
      "source": [
        "X_train, X_test, y_train, y_test = train_test_split(X_all, y_all, \n",
        "          test_size=0.2, random_state=15)\n",
        "\n",
        "id = random.randrange(0,X_train.shape[0])\n",
        "print('%d ' %(id))\n",
        "\n",
        "print(\"Train: %d - Test: %d\" %(X_train.shape[0],X_test.shape[0]))\n",
        "#print('%d %s %s' %(id,str(y_train[id]),str(X_train[id])))"
      ],
      "execution_count": 46,
      "outputs": [
        {
          "output_type": "stream",
          "text": [
            "992 \n",
            "Train: 4858 - Test: 1215\n"
          ],
          "name": "stdout"
        }
      ]
    },
    {
      "cell_type": "code",
      "metadata": {
        "colab": {
          "base_uri": "https://localhost:8080/",
          "height": 265
        },
        "id": "YXRJCOQVFzCT",
        "outputId": "19873a8c-e559-4397-83fe-b2eb75533d03"
      },
      "source": [
        "%matplotlib inline\n",
        "plt.hist(y_train, 30)\n",
        "plt.show()"
      ],
      "execution_count": 47,
      "outputs": [
        {
          "output_type": "display_data",
          "data": {
            "image/png": "[encoded data removed]",
            "text/plain": [
              "<Figure size 432x288 with 1 Axes>"
            ]
          },
          "metadata": {
            "tags": [],
            "needs_background": "light"
          }
        }
      ]
    },
    {
      "cell_type": "code",
      "metadata": {
        "colab": {
          "base_uri": "https://localhost:8080/",
          "height": 265
        },
        "id": "rE50knAnF7T2",
        "outputId": "c1865b7f-9fdf-4af6-b28a-1e1ac36b4e6f"
      },
      "source": [
        "%matplotlib inline\n",
        "plt.hist(y_test, 30)\n",
        "plt.show()"
      ],
      "execution_count": 48,
      "outputs": [
        {
          "output_type": "display_data",
          "data": {
            "image/png": "[encoded data removed]",
            "text/plain": [
              "<Figure size 432x288 with 1 Axes>"
            ]
          },
          "metadata": {
            "tags": [],
            "needs_background": "light"
          }
        }
      ]
    },
    {
      "cell_type": "markdown",
      "metadata": {
        "id": "BePqGbBIq5AS"
      },
      "source": [
        "###**Models**"
      ]
    },
    {
      "cell_type": "code",
      "metadata": {
        "id": "fWdrKpGocQrL",
        "colab": {
          "base_uri": "https://localhost:8080/"
        },
        "outputId": "d9376cc9-1d36-4be3-89b9-787fd46267ab"
      },
      "source": [
        "model_type = \"svm\" # \"svm\"\" or \"decisionTree\"\n",
        "kernel_name = 'linear' #linear, poly, rbf, sigmoid\n",
        "\n",
        "if model_type == \"decisionTree\":\n",
        "  model = tree.DecisionTreeClassifier()\n",
        "  print('Decision Tree Model created')\n",
        "elif model_type == \"svm\":\n",
        "  model = svm.SVC(C=1, kernel= kernel_name, degree=7, gamma='scale')\n",
        "  print('SVM Model created')"
      ],
      "execution_count": 49,
      "outputs": [
        {
          "output_type": "stream",
          "text": [
            "SVM Model created\n"
          ],
          "name": "stdout"
        }
      ]
    },
    {
      "cell_type": "markdown",
      "metadata": {
        "id": "f07jKKnTnszZ"
      },
      "source": [
        "### ***Fit the model***"
      ]
    },
    {
      "cell_type": "code",
      "metadata": {
        "colab": {
          "base_uri": "https://localhost:8080/"
        },
        "id": "7qucSKvSoBod",
        "outputId": "9f0d1ca7-5ac9-4854-ca75-f82c581dd11f"
      },
      "source": [
        "model.fit(X_train, y_train)"
      ],
      "execution_count": 50,
      "outputs": [
        {
          "output_type": "execute_result",
          "data": {
            "text/plain": [
              "SVC(C=1, break_ties=False, cache_size=200, class_weight=None, coef0=0.0,\n",
              "    decision_function_shape='ovr', degree=7, gamma='scale', kernel='linear',\n",
              "    max_iter=-1, probability=False, random_state=None, shrinking=True,\n",
              "    tol=0.001, verbose=False)"
            ]
          },
          "metadata": {
            "tags": []
          },
          "execution_count": 50
        }
      ]
    },
    {
      "cell_type": "markdown",
      "metadata": {
        "id": "pL3DOxKCpLTA"
      },
      "source": [
        "###**Prediction on test set and Accuracy**"
      ]
    },
    {
      "cell_type": "code",
      "metadata": {
        "colab": {
          "base_uri": "https://localhost:8080/"
        },
        "id": "wRctJq5V_qdy",
        "outputId": "0767f0c4-28ac-4058-e1f5-d69dcce2ea7d"
      },
      "source": [
        "y_pred = model.predict(X_test)\n",
        "\n",
        "acc = model.score(X_test, y_test)\n",
        "print(\"Accuracy = %.3f\" %acc)"
      ],
      "execution_count": 51,
      "outputs": [
        {
          "output_type": "stream",
          "text": [
            "Accuracy = 0.983\n"
          ],
          "name": "stdout"
        }
      ]
    },
    {
      "cell_type": "markdown",
      "metadata": {
        "id": "zWR6URUApqgv"
      },
      "source": [
        "###**Precision and Recall**"
      ]
    },
    {
      "cell_type": "code",
      "metadata": {
        "colab": {
          "base_uri": "https://localhost:8080/"
        },
        "id": "oK2Qb7nwp69U",
        "outputId": "c47fc873-1b0f-4306-d66c-e5410ea65a07"
      },
      "source": [
        "print(classification_report(y_test, y_pred))"
      ],
      "execution_count": 52,
      "outputs": [
        {
          "output_type": "stream",
          "text": [
            "              precision    recall  f1-score   support\n",
            "\n",
            "  encryption       0.98      0.99      0.98       256\n",
            "        math       0.98      0.99      0.99       456\n",
            "        sort       0.97      0.89      0.93       112\n",
            "      string       0.98      0.99      0.99       391\n",
            "\n",
            "    accuracy                           0.98      1215\n",
            "   macro avg       0.98      0.97      0.97      1215\n",
            "weighted avg       0.98      0.98      0.98      1215\n",
            "\n"
          ],
          "name": "stdout"
        }
      ]
    },
    {
      "cell_type": "markdown",
      "metadata": {
        "id": "QRcBa06NpwOa"
      },
      "source": [
        "###**Confusion Matrix**"
      ]
    },
    {
      "cell_type": "code",
      "metadata": {
        "colab": {
          "base_uri": "https://localhost:8080/",
          "height": 381
        },
        "id": "t-wMubaO6M21",
        "outputId": "30366e9b-493b-47b6-8baa-0f6dd7915e16"
      },
      "source": [
        "#CONFUSION MATRIX\n",
        "cm= confusion_matrix(y_test, y_pred, labels=None, sample_weight=None)\n",
        "print(cm)\n",
        "plot_confusion_matrix(y_test, y_pred, class_names, normalize=False)"
      ],
      "execution_count": 53,
      "outputs": [
        {
          "output_type": "stream",
          "text": [
            "[[253   2   1   0]\n",
            " [  1 453   1   1]\n",
            " [  4   3 100   5]\n",
            " [  0   2   1 388]]\n"
          ],
          "name": "stdout"
        },
        {
          "output_type": "execute_result",
          "data": {
            "text/plain": [
              "<matplotlib.axes._subplots.AxesSubplot at 0x7f822e5bbfd0>"
            ]
          },
          "metadata": {
            "tags": []
          },
          "execution_count": 53
        },
        {
          "output_type": "display_data",
          "data": {
            "image/png": "[encoded data removed]",
            "text/plain": [
              "<Figure size 432x288 with 2 Axes>"
            ]
          },
          "metadata": {
            "tags": [],
            "needs_background": "light"
          }
        }
      ]
    },
    {
      "cell_type": "markdown",
      "metadata": {
        "id": "7bNMDkzq84f3"
      },
      "source": [
        "###**Preprocessing blind set**"
      ]
    },
    {
      "cell_type": "code",
      "metadata": {
        "colab": {
          "base_uri": "https://localhost:8080/"
        },
        "id": "Vyc3Ze5M8_zR",
        "outputId": "093458ec-f270-4d57-f35f-1624a4a5a951"
      },
      "source": [
        "filename1 = '/content/drive/MyDrive/Colab Notebooks/ML_homework_1/nodupblindtest.json' #dataset.json'\n",
        "db1=pd.read_json(filename1, lines=True)\n",
        "\n",
        "print('Blind file loaded: %d samples.' %(len(db1)))\n",
        "\n",
        "\n",
        "lista={}\n",
        "\n",
        "k=0\n",
        "for i in db1.index:\n",
        "  \n",
        "  lista[k] = db1.lista_asm[k].split(\"', '\")\n",
        "  n=0\n",
        "  \n",
        "  l=len(lista[k])\n",
        "  for j in range(l):\n",
        "    lista[k][n]= lista[k][n].split() #divido ogni istruzione rispetto agli spazi\n",
        "    n += 1\n",
        "  k += 1\n",
        "\n",
        "\n",
        "sample =''\n",
        "dataset=[]\n",
        "for i in range(len(lista)):  #ogni sample del dataset\n",
        "  for j in range(len(lista[i])):  #ogni istruzione in un singolo sample\n",
        "    if j==0:\n",
        "      sample = sample+\" \"+lista[i][j][0][2:]\n",
        "    else:\n",
        "      sample = sample+\" \"+lista[i][j][0]\n",
        "\n",
        "  dataset.append(sample)\n",
        "  sample=''  \n",
        "\n"
      ],
      "execution_count": 54,
      "outputs": [
        {
          "output_type": "stream",
          "text": [
            "Blind file loaded: 621 samples.\n"
          ],
          "name": "stdout"
        }
      ]
    },
    {
      "cell_type": "markdown",
      "metadata": {
        "id": "31Mc7xVsCYAt"
      },
      "source": [
        "###**vectorization**"
      ]
    },
    {
      "cell_type": "code",
      "metadata": {
        "colab": {
          "base_uri": "https://localhost:8080/"
        },
        "id": "7p8ljttEBf9G",
        "outputId": "ee4b9d19-2ad9-4253-8cb9-7be21f683316"
      },
      "source": [
        "X_blind = vectorizer.transform(dataset)\n",
        "\n",
        "print(X_blind.shape)\n"
      ],
      "execution_count": 55,
      "outputs": [
        {
          "output_type": "stream",
          "text": [
            "(621, 177)\n"
          ],
          "name": "stdout"
        }
      ]
    },
    {
      "cell_type": "markdown",
      "metadata": {
        "id": "bhRHtekzClZZ"
      },
      "source": [
        "###**prediction on blind set**"
      ]
    },
    {
      "cell_type": "code",
      "metadata": {
        "colab": {
          "base_uri": "https://localhost:8080/"
        },
        "id": "Pz_5Vy_VCrAt",
        "outputId": "a9ff6fe4-8b26-4810-c1f6-24c2de9a5b96"
      },
      "source": [
        "y_pred_blind = model.predict(X_blind)\n",
        "\n",
        "#print(y_pred_blind)\n",
        "\n",
        "file = open(\"/content/drive/MyDrive/Colab Notebooks/ML_homework_1/1813509.txt\", \"w\")\n",
        "for c in y_pred_blind:\n",
        "  file.write(c)\n",
        "  file.write(\"\\n\")\n",
        "\n",
        "file.close()\n",
        "\n",
        "print(y_pred_blind)\n"
      ],
      "execution_count": 64,
      "outputs": [
        {
          "output_type": "stream",
          "text": [
            "['encryption' 'math' 'string' 'string' 'math' 'string' 'encryption'\n",
            " 'encryption' 'sort' 'math' 'math' 'math' 'sort' 'encryption' 'math'\n",
            " 'math' 'string' 'string' 'math' 'math' 'math' 'string' 'encryption'\n",
            " 'math' 'encryption' 'string' 'string' 'math' 'math' 'sort' 'sort' 'sort'\n",
            " 'sort' 'sort' 'string' 'sort' 'string' 'math' 'sort' 'string' 'string'\n",
            " 'math' 'sort' 'math' 'sort' 'sort' 'sort' 'string' 'string' 'sort' 'sort'\n",
            " 'math' 'math' 'string' 'string' 'math' 'math' 'math' 'math' 'encryption'\n",
            " 'sort' 'math' 'string' 'string' 'sort' 'string' 'sort' 'encryption'\n",
            " 'encryption' 'string' 'string' 'math' 'sort' 'sort' 'sort' 'sort' 'sort'\n",
            " 'encryption' 'math' 'sort' 'string' 'math' 'string' 'math' 'encryption'\n",
            " 'math' 'string' 'string' 'string' 'encryption' 'sort' 'string' 'math'\n",
            " 'encryption' 'encryption' 'encryption' 'math' 'sort' 'encryption' 'math'\n",
            " 'math' 'math' 'math' 'math' 'encryption' 'string' 'sort' 'string'\n",
            " 'string' 'encryption' 'math' 'sort' 'sort' 'string' 'encryption' 'math'\n",
            " 'math' 'encryption' 'math' 'encryption' 'string' 'math' 'encryption'\n",
            " 'encryption' 'string' 'sort' 'encryption' 'string' 'sort' 'math' 'string'\n",
            " 'encryption' 'math' 'math' 'math' 'math' 'sort' 'encryption' 'math'\n",
            " 'sort' 'encryption' 'math' 'math' 'math' 'string' 'string' 'encryption'\n",
            " 'string' 'encryption' 'math' 'string' 'sort' 'math' 'math' 'string'\n",
            " 'encryption' 'string' 'sort' 'string' 'encryption' 'encryption' 'math'\n",
            " 'sort' 'sort' 'string' 'math' 'sort' 'string' 'sort' 'math' 'string'\n",
            " 'encryption' 'math' 'math' 'math' 'math' 'math' 'sort' 'math' 'sort'\n",
            " 'encryption' 'math' 'sort' 'string' 'encryption' 'string' 'sort'\n",
            " 'encryption' 'sort' 'encryption' 'math' 'encryption' 'string' 'sort'\n",
            " 'encryption' 'math' 'math' 'encryption' 'sort' 'sort' 'math' 'math'\n",
            " 'string' 'string' 'string' 'math' 'math' 'math' 'math' 'sort' 'math'\n",
            " 'encryption' 'sort' 'math' 'encryption' 'encryption' 'math' 'sort' 'sort'\n",
            " 'sort' 'encryption' 'string' 'encryption' 'sort' 'sort' 'math'\n",
            " 'encryption' 'encryption' 'encryption' 'sort' 'math' 'math' 'math' 'sort'\n",
            " 'sort' 'encryption' 'encryption' 'string' 'sort' 'string' 'math' 'sort'\n",
            " 'string' 'sort' 'math' 'string' 'math' 'string' 'sort' 'string' 'sort'\n",
            " 'string' 'math' 'math' 'string' 'string' 'sort' 'sort' 'math' 'sort'\n",
            " 'math' 'encryption' 'math' 'string' 'encryption' 'sort' 'math' 'string'\n",
            " 'math' 'encryption' 'sort' 'math' 'string' 'math' 'sort' 'math' 'math'\n",
            " 'math' 'math' 'sort' 'string' 'string' 'math' 'string' 'sort' 'math'\n",
            " 'string' 'string' 'encryption' 'string' 'math' 'string' 'math' 'string'\n",
            " 'encryption' 'math' 'math' 'string' 'sort' 'math' 'string' 'math' 'math'\n",
            " 'sort' 'sort' 'sort' 'sort' 'math' 'sort' 'math' 'sort' 'string' 'string'\n",
            " 'sort' 'math' 'string' 'math' 'sort' 'sort' 'string' 'sort' 'math' 'math'\n",
            " 'encryption' 'math' 'math' 'string' 'math' 'math' 'math' 'encryption'\n",
            " 'math' 'encryption' 'sort' 'sort' 'math' 'encryption' 'math' 'math'\n",
            " 'string' 'encryption' 'math' 'math' 'encryption' 'math' 'math'\n",
            " 'encryption' 'math' 'math' 'string' 'sort' 'sort' 'string' 'encryption'\n",
            " 'math' 'math' 'sort' 'string' 'sort' 'string' 'sort' 'math' 'string'\n",
            " 'math' 'math' 'encryption' 'sort' 'string' 'encryption' 'string' 'math'\n",
            " 'string' 'string' 'math' 'string' 'sort' 'sort' 'string' 'math' 'sort'\n",
            " 'math' 'math' 'sort' 'encryption' 'string' 'sort' 'string' 'encryption'\n",
            " 'math' 'math' 'math' 'math' 'math' 'encryption' 'string' 'sort'\n",
            " 'encryption' 'string' 'math' 'sort' 'math' 'encryption' 'string' 'math'\n",
            " 'encryption' 'math' 'encryption' 'string' 'math' 'math' 'encryption'\n",
            " 'math' 'string' 'math' 'math' 'math' 'math' 'math' 'string' 'string'\n",
            " 'encryption' 'math' 'math' 'math' 'string' 'sort' 'encryption' 'math'\n",
            " 'sort' 'string' 'encryption' 'string' 'math' 'math' 'string' 'string'\n",
            " 'sort' 'sort' 'sort' 'string' 'math' 'string' 'math' 'string' 'string'\n",
            " 'encryption' 'math' 'encryption' 'math' 'encryption' 'encryption'\n",
            " 'string' 'math' 'string' 'sort' 'math' 'string' 'math' 'math' 'string'\n",
            " 'math' 'encryption' 'math' 'encryption' 'encryption' 'encryption' 'sort'\n",
            " 'encryption' 'encryption' 'sort' 'encryption' 'string' 'math'\n",
            " 'encryption' 'math' 'math' 'encryption' 'string' 'math' 'math' 'sort'\n",
            " 'string' 'string' 'sort' 'math' 'encryption' 'string' 'math' 'encryption'\n",
            " 'sort' 'encryption' 'math' 'math' 'string' 'string' 'sort' 'sort' 'math'\n",
            " 'math' 'sort' 'math' 'sort' 'string' 'math' 'encryption' 'string'\n",
            " 'encryption' 'sort' 'sort' 'string' 'sort' 'encryption' 'math' 'math'\n",
            " 'math' 'math' 'math' 'encryption' 'sort' 'sort' 'math' 'encryption'\n",
            " 'math' 'math' 'math' 'sort' 'string' 'math' 'math' 'string' 'math' 'math'\n",
            " 'string' 'string' 'string' 'string' 'sort' 'sort' 'sort' 'math' 'string'\n",
            " 'encryption' 'encryption' 'sort' 'encryption' 'string' 'encryption'\n",
            " 'math' 'math' 'string' 'math' 'string' 'math' 'string' 'math' 'sort'\n",
            " 'math' 'sort' 'sort' 'string' 'encryption' 'sort' 'math' 'string' 'math'\n",
            " 'string' 'math' 'encryption' 'encryption' 'sort' 'string' 'sort'\n",
            " 'encryption' 'math' 'math' 'encryption' 'encryption' 'math' 'sort'\n",
            " 'string' 'encryption' 'string' 'math' 'string' 'math' 'math' 'encryption'\n",
            " 'string' 'encryption' 'sort' 'math' 'sort' 'string' 'math' 'string'\n",
            " 'string' 'encryption' 'math' 'string' 'math' 'math' 'sort' 'encryption'\n",
            " 'string' 'math' 'encryption' 'math' 'string' 'string' 'sort' 'encryption'\n",
            " 'math' 'math' 'encryption' 'math' 'string' 'math' 'encryption'\n",
            " 'encryption' 'math' 'math']\n"
          ],
          "name": "stdout"
        }
      ]
    }
  ]
}